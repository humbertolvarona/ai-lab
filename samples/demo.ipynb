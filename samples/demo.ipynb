{
 "cells": [
  {
   "cell_type": "code",
   "execution_count": 4,
   "id": "2a796b08-840b-4325-9cd9-27472cd305ed",
   "metadata": {},
   "outputs": [
    {
     "name": "stdout",
     "output_type": "stream",
     "text": [
      "TF version: 2.14.1\n",
      "Torch version: 2.7.0+cu126\n"
     ]
    },
    {
     "data": {
      "application/vnd.jupyter.widget-view+json": {
       "model_id": "edd65bdd8df54e6da5806fc89722ca82",
       "version_major": 2,
       "version_minor": 0
      },
      "text/plain": [
       "IntSlider(value=0, description='Slider')"
      ]
     },
     "metadata": {},
     "output_type": "display_data"
    },
    {
     "data": {
      "application/vnd.jupyter.widget-view+json": {
       "model_id": "0d9affc9d7d04b08a9412d6ae950403f",
       "version_major": 2,
       "version_minor": 0
      },
      "text/plain": [
       "Dropdown(description='Dropdown', options=('Option 1', 'Option 2', 'Option 3'), value='Option 1')"
      ]
     },
     "metadata": {},
     "output_type": "display_data"
    },
    {
     "data": {
      "application/vnd.jupyter.widget-view+json": {
       "model_id": "7be22670ff0943789bc99ba5242fbe61",
       "version_major": 2,
       "version_minor": 0
      },
      "text/plain": [
       "Text(value='Hello', description='Text:', placeholder='Type something')"
      ]
     },
     "metadata": {},
     "output_type": "display_data"
    },
    {
     "data": {
      "application/vnd.jupyter.widget-view+json": {
       "model_id": "5e8ddbd090e346fb9bb1549bd33b428e",
       "version_major": 2,
       "version_minor": 0
      },
      "text/plain": [
       "Checkbox(value=False, description='Check me')"
      ]
     },
     "metadata": {},
     "output_type": "display_data"
    },
    {
     "data": {
      "application/vnd.jupyter.widget-view+json": {
       "model_id": "0fc7d54738b74deab88fac78edb9609f",
       "version_major": 2,
       "version_minor": 0
      },
      "text/plain": [
       "ToggleButton(value=False, button_style='info', description='Toggle')"
      ]
     },
     "metadata": {},
     "output_type": "display_data"
    },
    {
     "data": {
      "application/vnd.jupyter.widget-view+json": {
       "model_id": "0d54e045453a470fbb13c29ed8a1fad1",
       "version_major": 2,
       "version_minor": 0
      },
      "text/plain": [
       "ColorPicker(value='blue', description='Pick a color:')"
      ]
     },
     "metadata": {},
     "output_type": "display_data"
    },
    {
     "data": {
      "application/vnd.jupyter.widget-view+json": {
       "model_id": "72b2f677ce9c4c90b21ca5528b52d67f",
       "version_major": 2,
       "version_minor": 0
      },
      "text/plain": [
       "IntText(value=5, description='IntText:')"
      ]
     },
     "metadata": {},
     "output_type": "display_data"
    },
    {
     "data": {
      "application/vnd.jupyter.widget-view+json": {
       "model_id": "d42a2257fc6c4f228d434279e53a5fd6",
       "version_major": 2,
       "version_minor": 0
      },
      "text/plain": [
       "FloatSlider(value=0.0, description='Float:', max=1.0, step=0.01)"
      ]
     },
     "metadata": {},
     "output_type": "display_data"
    },
    {
     "data": {
      "application/vnd.jupyter.widget-view+json": {
       "model_id": "e76e19392bdf466dafb4d2c803f885ba",
       "version_major": 2,
       "version_minor": 0
      },
      "text/plain": [
       "FileUpload(value=(), description='Upload:')"
      ]
     },
     "metadata": {},
     "output_type": "display_data"
    },
    {
     "data": {
      "application/vnd.jupyter.widget-view+json": {
       "model_id": "477d3f3c3212445680731898de2a5438",
       "version_major": 2,
       "version_minor": 0
      },
      "text/plain": [
       "Textarea(value='', description='Textarea:', placeholder='Type multiple lines')"
      ]
     },
     "metadata": {},
     "output_type": "display_data"
    },
    {
     "data": {
      "application/vnd.jupyter.widget-view+json": {
       "model_id": "efdfc164534542cc9765d3fd505b32e6",
       "version_major": 2,
       "version_minor": 0
      },
      "text/plain": [
       "DatePicker(value=None, description='Pick a date', step=1)"
      ]
     },
     "metadata": {},
     "output_type": "display_data"
    },
    {
     "data": {
      "application/vnd.jupyter.widget-view+json": {
       "model_id": "82e7bf24af99427e974faaa204886897",
       "version_major": 2,
       "version_minor": 0
      },
      "text/plain": [
       "Select(description='Select:', options=('Apple', 'Banana', 'Orange'), value='Apple')"
      ]
     },
     "metadata": {},
     "output_type": "display_data"
    },
    {
     "data": {
      "application/vnd.jupyter.widget-view+json": {
       "model_id": "81352b0f16454a709fddc211064951b7",
       "version_major": 2,
       "version_minor": 0
      },
      "text/plain": [
       "RadioButtons(description='Radio:', options=('Yes', 'No', 'Maybe'), value='Yes')"
      ]
     },
     "metadata": {},
     "output_type": "display_data"
    },
    {
     "data": {
      "application/vnd.jupyter.widget-view+json": {
       "model_id": "50510ba93d8f45e99bcab1eb7969fe26",
       "version_major": 2,
       "version_minor": 0
      },
      "text/plain": [
       "IntProgress(value=25, description='Progress')"
      ]
     },
     "metadata": {},
     "output_type": "display_data"
    }
   ],
   "source": [
    "import tensorflow as tf\n",
    "import torch\n",
    "import ipywidgets as widgets\n",
    "from IPython.display import display\n",
    "\n",
    "print(\"TF version:\", tf.__version__)\n",
    "print(\"Torch version:\", torch.__version__)\n",
    "\n",
    "\n",
    "slider = widgets.IntSlider(description=\"Slider\")\n",
    "dropdown = widgets.Dropdown(\n",
    "    options=[\"Option 1\", \"Option 2\", \"Option 3\"],\n",
    "    value=\"Option 1\",\n",
    "    description=\"Dropdown\"\n",
    ")\n",
    "text = widgets.Text(\n",
    "    value=\"Hello\",\n",
    "    placeholder=\"Type something\",\n",
    "    description=\"Text:\"\n",
    ")\n",
    "checkbox = widgets.Checkbox(\n",
    "    value=False,\n",
    "    description=\"Check me\"\n",
    ")\n",
    "toggle = widgets.ToggleButton(\n",
    "    value=False,\n",
    "    description=\"Toggle\",\n",
    "    button_style='info'\n",
    ")\n",
    "color_picker = widgets.ColorPicker(\n",
    "    concise=False,\n",
    "    description='Pick a color:',\n",
    "    value='blue'\n",
    ")\n",
    "\n",
    "\n",
    "int_text = widgets.IntText(value=5, description=\"IntText:\")\n",
    "float_slider = widgets.FloatSlider(min=0, max=1, step=0.01, description=\"Float:\")\n",
    "file_upload = widgets.FileUpload(accept='', multiple=False, description=\"Upload:\")\n",
    "textarea = widgets.Textarea(\n",
    "    value='',\n",
    "    placeholder='Type multiple lines',\n",
    "    description='Textarea:'\n",
    ")\n",
    "date_picker = widgets.DatePicker(description='Pick a date')\n",
    "selection = widgets.Select(\n",
    "    options=[\"Apple\", \"Banana\", \"Orange\"],\n",
    "    description=\"Select:\"\n",
    ")\n",
    "radio = widgets.RadioButtons(\n",
    "    options=['Yes', 'No', 'Maybe'],\n",
    "    description='Radio:'\n",
    ")\n",
    "progress = widgets.IntProgress(value=25, min=0, max=100, description=\"Progress\")\n",
    "\n",
    "\n",
    "display(\n",
    "    slider, dropdown, text, checkbox, toggle, color_picker,\n",
    "    int_text, float_slider, file_upload, textarea,\n",
    "    date_picker, selection, radio, progress\n",
    ")\n"
   ]
  },
  {
   "cell_type": "code",
   "execution_count": null,
   "id": "2f880e9a-0786-4fad-8ba1-e952f171cea9",
   "metadata": {},
   "outputs": [],
   "source": []
  }
 ],
 "metadata": {
  "kernelspec": {
   "display_name": "Python 3 (ipykernel)",
   "language": "python",
   "name": "python3"
  },
  "language_info": {
   "codemirror_mode": {
    "name": "ipython",
    "version": 3
   },
   "file_extension": ".py",
   "mimetype": "text/x-python",
   "name": "python",
   "nbconvert_exporter": "python",
   "pygments_lexer": "ipython3",
   "version": "3.10.17"
  }
 },
 "nbformat": 4,
 "nbformat_minor": 5
}
